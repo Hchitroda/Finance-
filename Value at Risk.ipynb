{
 "cells": [
  {
   "cell_type": "markdown",
   "metadata": {
    "id": "0qYvRTglG537"
   },
   "source": [
    "# Value at Risk Assessment Model"
   ]
  },
  {
   "cell_type": "markdown",
   "metadata": {
    "id": "n9SHyrgqG538"
   },
   "source": [
    "### Import Packages\n"
   ]
  },
  {
   "cell_type": "code",
   "execution_count": 2,
   "metadata": {
    "id": "6zwRJlzeLaqq"
   },
   "outputs": [],
   "source": [
    "# Import packages\n",
    "import numpy as np\n",
    "import pandas as pd\n",
    "import matplotlib.pyplot as plt\n",
    "import yfinance as yf"
   ]
  },
  {
   "cell_type": "markdown",
   "metadata": {
    "id": "S9eWw_mrG53-"
   },
   "source": [
    "### Distributions - Set Up Stock Parameters"
   ]
  },
  {
   "cell_type": "code",
   "execution_count": 12,
   "metadata": {
    "colab": {
     "base_uri": "https://localhost:8080/"
    },
    "executionInfo": {
     "elapsed": 181,
     "status": "ok",
     "timestamp": 1626320248024,
     "user": {
      "displayName": "Yuting Zhao",
      "photoUrl": "https://lh3.googleusercontent.com/a-/AOh14GgTx8nXEgksfFAELok_uktVap8BK_FeqQbCMfOqOQ=s64",
      "userId": "08092881124962313525"
     },
     "user_tz": 420
    },
    "id": "TWE2nRZhG53_",
    "outputId": "7b19be3c-ad85-484a-e6fb-e73330f9269a"
   },
   "outputs": [
    {
     "name": "stdout",
     "output_type": "stream",
     "text": [
      "yfinance.Ticker object <TSLA>\n",
      "1026.9599609375\n"
     ]
    }
   ],
   "source": [
    "# Number of shares\n",
    "shares_TSLA = 1\n",
    "\n",
    "\n",
    "# Live stock price\n",
    "price = yf.Ticker('TSLA')\n",
    "price_TSLA = price.history().tail(1)['Close'].iloc[0]\n",
    "\n",
    "print(price)\n",
    "print (price_TSLA)"
   ]
  },
  {
   "cell_type": "markdown",
   "metadata": {},
   "source": [
    "30-day Historical volatility source: https://www.alphaquery.com/stock/MSFT/volatility-option-statistics/30-day/historical-volatility"
   ]
  },
  {
   "cell_type": "code",
   "execution_count": 13,
   "metadata": {
    "id": "1pwJU3PdLaqs"
   },
   "outputs": [],
   "source": [
    "# Investment value\n",
    "value_TSLA = price_TSLA * shares_TSLA\n",
    "\n",
    "# Risk free rate (4 week treasury bill rate)\n",
    "rfr_TSLA = 0.02 \n",
    "\n",
    "# Volatility (30-day volatility at that time)\n",
    "vol_TSLA = 0.2116"
   ]
  },
  {
   "cell_type": "markdown",
   "metadata": {
    "id": "Tx3t5Yu0G54C"
   },
   "source": [
    "### Simulations - Calculate Investment Returns"
   ]
  },
  {
   "cell_type": "code",
   "execution_count": 14,
   "metadata": {
    "id": "DV0RqdK2G54D"
   },
   "outputs": [],
   "source": [
    "# Number of simulations\n",
    "simulations = 5000 \n",
    "\n",
    "# Investment time in a year\n",
    "t_TSLA = 21/252 "
   ]
  },
  {
   "cell_type": "code",
   "execution_count": 8,
   "metadata": {
    "colab": {
     "base_uri": "https://localhost:8080/",
     "height": 811
    },
    "executionInfo": {
     "elapsed": 752,
     "status": "ok",
     "timestamp": 1624456739147,
     "user": {
      "displayName": "Lester Leong",
      "photoUrl": "https://lh3.googleusercontent.com/a-/AOh14GhESsAP_U-p-CX8EsBjBg4EszjEo6Qb0zr-LMf14g=s64",
      "userId": "17427307644910609596"
     },
     "user_tz": 300
    },
    "id": "3uhH4lTRG54E",
    "outputId": "e3c6ca8d-496f-41c8-ffb6-c880870d83a3"
   },
   "outputs": [
    {
     "data": {
      "text/plain": [
       "(array([  1.,   0.,   0.,   1.,   3.,   3.,   5.,   1.,   1.,   6.,   5.,\n",
       "          9.,   8.,   6.,  16.,  15.,  16.,  17.,  22.,  26.,  37.,  21.,\n",
       "         36.,  50.,  52.,  46.,  61.,  46.,  70.,  72.,  73.,  77.,  75.,\n",
       "         98.,  93., 110., 100., 111., 126., 120., 155., 164., 128., 136.,\n",
       "        138., 150., 137., 128., 134., 154., 144., 122., 145., 127., 120.,\n",
       "        115., 100., 101.,  94.,  81., 101.,  76.,  66.,  69.,  59.,  42.,\n",
       "         55.,  34.,  35.,  41.,  25.,  24.,  30.,  25.,  16.,  14.,  14.,\n",
       "         13.,   9.,   8.,   6.,   5.,   3.,   3.,   2.,   2.,   4.,   2.,\n",
       "          2.,   1.,   0.,   0.,   2.,   1.,   0.,   0.,   0.,   1.,   0.,\n",
       "          2.]),\n",
       " array([-3.27185403, -3.20033668, -3.12881932, -3.05730197, -2.98578462,\n",
       "        -2.91426727, -2.84274991, -2.77123256, -2.69971521, -2.62819785,\n",
       "        -2.5566805 , -2.48516315, -2.41364579, -2.34212844, -2.27061109,\n",
       "        -2.19909373, -2.12757638, -2.05605903, -1.98454167, -1.91302432,\n",
       "        -1.84150697, -1.76998961, -1.69847226, -1.62695491, -1.55543756,\n",
       "        -1.4839202 , -1.41240285, -1.3408855 , -1.26936814, -1.19785079,\n",
       "        -1.12633344, -1.05481608, -0.98329873, -0.91178138, -0.84026402,\n",
       "        -0.76874667, -0.69722932, -0.62571196, -0.55419461, -0.48267726,\n",
       "        -0.4111599 , -0.33964255, -0.2681252 , -0.19660785, -0.12509049,\n",
       "        -0.05357314,  0.01794421,  0.08946157,  0.16097892,  0.23249627,\n",
       "         0.30401363,  0.37553098,  0.44704833,  0.51856569,  0.59008304,\n",
       "         0.66160039,  0.73311775,  0.8046351 ,  0.87615245,  0.94766981,\n",
       "         1.01918716,  1.09070451,  1.16222186,  1.23373922,  1.30525657,\n",
       "         1.37677392,  1.44829128,  1.51980863,  1.59132598,  1.66284334,\n",
       "         1.73436069,  1.80587804,  1.8773954 ,  1.94891275,  2.0204301 ,\n",
       "         2.09194746,  2.16346481,  2.23498216,  2.30649952,  2.37801687,\n",
       "         2.44953422,  2.52105157,  2.59256893,  2.66408628,  2.73560363,\n",
       "         2.80712099,  2.87863834,  2.95015569,  3.02167305,  3.0931904 ,\n",
       "         3.16470775,  3.23622511,  3.30774246,  3.37925981,  3.45077717,\n",
       "         3.52229452,  3.59381187,  3.66532923,  3.73684658,  3.80836393,\n",
       "         3.87988129]),\n",
       " <BarContainer object of 100 artists>)"
      ]
     },
     "execution_count": 8,
     "metadata": {},
     "output_type": "execute_result"
    },
    {
     "data": {
      "image/png": "[encoded data removed]",
      "text/plain": [
       "<Figure size 432x288 with 1 Axes>"
      ]
     },
     "metadata": {
      "needs_background": "light"
     },
     "output_type": "display_data"
    }
   ],
   "source": [
    "# Explain np.random.standard_normal\n",
    "sample = np.random.standard_normal(5000)\n",
    "plt.hist(sample,bins=100)"
   ]
  },
  {
   "cell_type": "code",
   "execution_count": 15,
   "metadata": {
    "colab": {
     "base_uri": "https://localhost:8080/"
    },
    "executionInfo": {
     "elapsed": 8,
     "status": "ok",
     "timestamp": 1624456739148,
     "user": {
      "displayName": "Lester Leong",
      "photoUrl": "https://lh3.googleusercontent.com/a-/AOh14GhESsAP_U-p-CX8EsBjBg4EszjEo6Qb0zr-LMf14g=s64",
      "userId": "17427307644910609596"
     },
     "user_tz": 300
    },
    "id": "ecg0kj4PG54F",
    "outputId": "9ba22a66-a2f1-4820-a054-35549fd32622"
   },
   "outputs": [
    {
     "name": "stdout",
     "output_type": "stream",
     "text": [
      "0.01650882194021989\n",
      "0.9998954543042429\n"
     ]
    }
   ],
   "source": [
    "print(np.mean(sample))\n",
    "print(np.std(sample))"
   ]
  },
  {
   "cell_type": "code",
   "execution_count": 10,
   "metadata": {
    "id": "0oUobTOZLaqs"
   },
   "outputs": [],
   "source": [
    "# Create a function to calculate the returns of the investment\n",
    "def VaR(pv, rfr, vol, t, simulations):\n",
    "    end_value = pv * np.exp((rfr - .5 * vol ** 2) * t + np.random.standard_normal(\n",
    "        simulations) * vol * np.sqrt(t))\n",
    "    returns = end_value - pv\n",
    "    return returns\n",
    "\n",
    "# Apply the VaR function to simulate the returns\n",
    "returns_TSLA = VaR(value_TSLA, rfr_TSLA, vol_TSLA, t_TSLA, simulations)"
   ]
  },
  {
   "cell_type": "markdown",
   "metadata": {
    "id": "nvhBrW_1G54H"
   },
   "source": [
    "### Quantifications - Identify VaR at 90%, 95%, and 99% Confidence Level"
   ]
  },
  {
   "cell_type": "code",
   "execution_count": 16,
   "metadata": {
    "colab": {
     "base_uri": "https://localhost:8080/"
    },
    "executionInfo": {
     "elapsed": 6,
     "status": "ok",
     "timestamp": 1624456739149,
     "user": {
      "displayName": "Lester Leong",
      "photoUrl": "https://lh3.googleusercontent.com/a-/AOh14GhESsAP_U-p-CX8EsBjBg4EszjEo6Qb0zr-LMf14g=s64",
      "userId": "17427307644910609596"
     },
     "user_tz": 300
    },
    "id": "gQu-YRHZG54I",
    "outputId": "551f0d02-0383-4274-d375-9e6257c37884"
   },
   "outputs": [
    {
     "name": "stdout",
     "output_type": "stream",
     "text": [
      "VaR at 90% confidence level: $3,455\n"
     ]
    }
   ],
   "source": [
    "# Explain string formatting\n",
    "# Print: VaR at x% confidence level: $y.\n",
    "\n",
    "x = 0.9\n",
    "y = 3455.248\n",
    "print(\"VaR at {:.0%} confidence level: ${:,.0f}\".format(x, y))"
   ]
  },
  {
   "cell_type": "code",
   "execution_count": 17,
   "metadata": {
    "colab": {
     "base_uri": "https://localhost:8080/",
     "height": 316
    },
    "executionInfo": {
     "elapsed": 735,
     "status": "ok",
     "timestamp": 1624456739879,
     "user": {
      "displayName": "Lester Leong",
      "photoUrl": "https://lh3.googleusercontent.com/a-/AOh14GhESsAP_U-p-CX8EsBjBg4EszjEo6Qb0zr-LMf14g=s64",
      "userId": "17427307644910609596"
     },
     "user_tz": 300
    },
    "id": "L5NT-rgIG54K",
    "outputId": "518ae085-5727-4cc0-cad2-4fdbe02ebfd0"
   },
   "outputs": [
    {
     "name": "stdout",
     "output_type": "stream",
     "text": [
      "VaR at 90% confidence level: $-78,163\n",
      "VaR at 95% confidence level: $-99,756\n",
      "VaR at 99% confidence level: $-136,910\n"
     ]
    },
    {
     "data": {
      "image/png": "[encoded data removed]",
      "text/plain": [
       "<Figure size 432x288 with 1 Axes>"
      ]
     },
     "metadata": {
      "needs_background": "light"
     },
     "output_type": "display_data"
    }
   ],
   "source": [
    "# Plot the returns\n",
    "plt.hist(returns_TSLA, bins=100);\n",
    "\n",
    "# Show VaR at 90%, 95%, and 99% confidence level\n",
    "percentiles = [10,5,1]\n",
    "\n",
    "for i in percentiles:\n",
    "    confidence = (100-i)/100\n",
    "    value = np.percentile(returns_TSLA, i)\n",
    "    print(\"VaR at {:.0%} confidence level: ${:,.0f}\".format(confidence, value))\n",
    "    plt.axvline(value, color = 'red', linestyle='dashed', linewidth=1)"
   ]
  },
  {
   "cell_type": "markdown",
   "metadata": {
    "id": "GsUWTH8JG54K"
   },
   "source": [
    "## The end \n"
   ]
  },
  {
   "cell_type": "code",
   "execution_count": null,
   "metadata": {},
   "outputs": [],
   "source": []
  }
 ],
 "metadata": {
  "colab": {
   "collapsed_sections": [],
   "name": "03-Value at Risk Assessment V2 (with script).ipynb",
   "provenance": []
  },
  "kernelspec": {
   "display_name": "Python 3",
   "language": "python",
   "name": "python3"
  },
  "language_info": {
   "codemirror_mode": {
    "name": "ipython",
    "version": 3
   },
   "file_extension": ".py",
   "mimetype": "text/x-python",
   "name": "python",
   "nbconvert_exporter": "python",
   "pygments_lexer": "ipython3",
   "version": "3.8.8"
  }
 },
 "nbformat": 4,
 "nbformat_minor": 1
}
